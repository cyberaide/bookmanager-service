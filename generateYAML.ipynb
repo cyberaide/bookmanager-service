{
 "cells": [
  {
   "cell_type": "code",
   "execution_count": 3,
   "metadata": {
    "ExecuteTime": {
     "end_time": "2019-12-04T01:45:09.658367Z",
     "start_time": "2019-12-04T01:45:09.652367Z"
    }
   },
   "outputs": [],
   "source": [
    "import pickle\n",
    "import json\n",
    "import oyaml as yaml\n",
    "from collections import OrderedDict\n",
    "from pathlib import Path\n",
    "import sys\n",
    "import re\n",
    "p = Path('.')  / 'cloudmesh' / 'bookmanagerservice' / 'service'\n",
    "sys.path.append(str(p.absolute()))\n",
    "from nested_lookup import get_all_keys\n",
    "import getdata"
   ]
  },
  {
   "cell_type": "code",
   "execution_count": 4,
   "metadata": {
    "ExecuteTime": {
     "end_time": "2019-12-04T01:45:26.367897Z",
     "start_time": "2019-12-04T01:45:10.283386Z"
    }
   },
   "outputs": [],
   "source": [
    "bks = getdata.getBooks(onlybooks=True)\n",
    "tstbk = 'Cloud Computing'\n",
    "bkinfo = getdata.getBooks(onlybooks = False, filename = bks[tstbk])\n",
    "\n",
    "#All Data\n",
    "mainData = bkinfo[tstbk]['data']\n",
    "links = bkinfo[tstbk]['links']\n",
    "metadata = bkinfo[tstbk]['metadata']\n",
    "data = pickle.load( open( \"returnedData.pkl\", \"rb\" ))"
   ]
  },
  {
   "cell_type": "markdown",
   "metadata": {},
   "source": [
    "![alt text](sample.jpg \"Title\")"
   ]
  },
  {
   "cell_type": "code",
   "execution_count": 6,
   "metadata": {
    "ExecuteTime": {
     "end_time": "2019-12-04T01:45:55.252522Z",
     "start_time": "2019-12-04T01:45:55.249521Z"
    }
   },
   "outputs": [],
   "source": [
    "def rec(data, vals):\n",
    "    lst2 = []\n",
    "    for v in vals:\n",
    "        lst = []\n",
    "        for d in data:\n",
    "            if d['parent'] == v:\n",
    "                lst.append(d['id'])\n",
    "        if len(lst) > 0:\n",
    "            g = rec(data,lst)\n",
    "            lst2.append(({v : g}))\n",
    "        else:\n",
    "            lst2.append(v)\n",
    "    return lst2        "
   ]
  },
  {
   "cell_type": "code",
   "execution_count": 7,
   "metadata": {
    "ExecuteTime": {
     "end_time": "2019-12-04T01:45:55.945549Z",
     "start_time": "2019-12-04T01:45:55.941552Z"
    }
   },
   "outputs": [],
   "source": [
    "final = {}\n",
    "for d in data:\n",
    "    if d['parent'] == '#':\n",
    "        final[d['id']] = d['children']"
   ]
  },
  {
   "cell_type": "code",
   "execution_count": 14,
   "metadata": {
    "ExecuteTime": {
     "end_time": "2019-12-04T01:48:07.989692Z",
     "start_time": "2019-12-04T01:48:07.983693Z"
    }
   },
   "outputs": [],
   "source": [
    "temp =  {}\n",
    "temp2 = {}\n",
    "\n",
    "for keys, values in final.items():\n",
    "    lst = rec(data,values)\n",
    "    temp[keys] = lst\n",
    "    \n",
    "    \n",
    "#Missing PART\n",
    "#convert names in temp to links\n",
    "def unpack(content):\n",
    "    nList = []\n",
    "    for k, v in content.items():\n",
    "        for value in v:\n",
    "            if isinstance(value, dict):\n",
    "                nList += (unpack(value))\n",
    "            else:\n",
    "                nList.append(value)\n",
    "    return nList\n",
    "\n",
    "keyList = get_all_keys(temp)\n",
    "idList = unpack(temp)\n",
    "temp = str(temp)\n",
    "for item in idList:\n",
    "    for i in range(len(mainData)):\n",
    "        t = mainData[i]\n",
    "        if item == t['id']:\n",
    "            temp = temp.replace(item, links[i])\n",
    "for item in keyList:\n",
    "    \n",
    "    if '/' in item:\n",
    "        \n",
    "        tempItem = item.split(\"/\")\n",
    "        temp = temp.replace(item, tempItem[-1])\n",
    "temp = eval(temp)\n",
    "\n",
    "#\n",
    "temp2['metadata'] = metadata\n",
    "temp2['BOOK'] = [temp]\n",
    "temp2 = temp2"
   ]
  },
  {
   "cell_type": "code",
   "execution_count": 17,
   "metadata": {
    "ExecuteTime": {
     "end_time": "2019-12-04T01:48:34.305952Z",
     "start_time": "2019-12-04T01:48:34.295955Z"
    }
   },
   "outputs": [],
   "source": [
    "mystr  = yaml.dump(yaml.load(json.dumps(temp2), Loader=yaml.SafeLoader),default_flow_style = False)\n",
    "mystr = re.sub(r'([\\n])  ([A-Z])', r'\\n- \\2', mystr)"
   ]
  },
  {
   "cell_type": "code",
   "execution_count": 18,
   "metadata": {
    "ExecuteTime": {
     "end_time": "2019-12-04T01:48:35.167960Z",
     "start_time": "2019-12-04T01:48:35.164951Z"
    },
    "scrolled": false
   },
   "outputs": [],
   "source": [
    "#print(mystr)\n",
    "bookTitle = metadata['title']\n",
    "with open('books/samples/nai_test.yaml', 'w+') as f:\n",
    "    f.write(mystr)\n"
   ]
  },
  {
   "cell_type": "code",
   "execution_count": 19,
   "metadata": {
    "ExecuteTime": {
     "end_time": "2019-12-04T01:48:35.697955Z",
     "start_time": "2019-12-04T01:48:35.694952Z"
    }
   },
   "outputs": [
    {
     "data": {
      "text/plain": [
       "'\\nimport hashlib \\nhash sample\\ntst = \"this is a test\"\\nresult = hashlib.sha256(tst.encode()) \\nprint(\"The hexadecimal equivalent of SHA256 is : \") \\nprint(result.hexdigest()) \\nmem = \"2e99758548972a8e8822ad47fa1017ff72f06f3ff6a016851f45c398732bc50c\"\\nif mem == result.hexdigest():\\n    print(\\'success\\')\\n\\n'"
      ]
     },
     "execution_count": 19,
     "metadata": {},
     "output_type": "execute_result"
    }
   ],
   "source": [
    "\"\"\"\n",
    "import hashlib \n",
    "hash sample\n",
    "tst = \"this is a test\"\n",
    "result = hashlib.sha256(tst.encode()) \n",
    "print(\"The hexadecimal equivalent of SHA256 is : \") \n",
    "print(result.hexdigest()) \n",
    "mem = \"2e99758548972a8e8822ad47fa1017ff72f06f3ff6a016851f45c398732bc50c\"\n",
    "if mem == result.hexdigest():\n",
    "    print('success')\n",
    "\n",
    "\"\"\"\n"
   ]
  },
  {
   "cell_type": "code",
   "execution_count": 1,
   "metadata": {},
   "outputs": [],
   "source": [
    "from generateYAML import yamlGenerator\n",
    "import pickle"
   ]
  },
  {
   "cell_type": "code",
   "execution_count": 2,
   "metadata": {},
   "outputs": [],
   "source": [
    "tstbk = 'Cloud Computing'\n",
    "data = pickle.load( open( \"returnedData.pkl\", \"rb\" ))"
   ]
  },
  {
   "cell_type": "code",
   "execution_count": 3,
   "metadata": {},
   "outputs": [],
   "source": [
    "yamlGenerator(tstbk, data)"
   ]
  },
  {
   "cell_type": "code",
   "execution_count": null,
   "metadata": {},
   "outputs": [],
   "source": []
  }
 ],
 "metadata": {
  "kernelspec": {
   "display_name": "Python 3",
   "language": "python",
   "name": "python3"
  },
  "language_info": {
   "codemirror_mode": {
    "name": "ipython",
    "version": 3
   },
   "file_extension": ".py",
   "mimetype": "text/x-python",
   "name": "python",
   "nbconvert_exporter": "python",
   "pygments_lexer": "ipython3",
   "version": "3.7.5"
  },
  "toc": {
   "base_numbering": 1,
   "nav_menu": {},
   "number_sections": true,
   "sideBar": true,
   "skip_h1_title": false,
   "title_cell": "Table of Contents",
   "title_sidebar": "Contents",
   "toc_cell": false,
   "toc_position": {},
   "toc_section_display": true,
   "toc_window_display": false
  }
 },
 "nbformat": 4.5,
 "nbformat_minor": 2
}
