{
 "cells": [
  {
   "cell_type": "code",
   "execution_count": 1,
   "metadata": {},
   "outputs": [],
   "source": [
    "import pickle\n",
    "import json\n",
    "import oyaml as yaml\n",
    "from collections import OrderedDict\n",
    "from pathlib import Path\n",
    "import sys\n",
    "\n",
    "p = Path('.')  / 'cloudmesh' / 'bookmanagerservice' / 'service'\n",
    "sys.path.append(str(p.absolute()))\n",
    "\n",
    "import getdata"
   ]
  },
  {
   "cell_type": "code",
   "execution_count": 8,
   "metadata": {},
   "outputs": [],
   "source": [
    "bks = getdata.getBooks(onlybooks=True)\n",
    "tstbk = 'Cloud Computing'\n",
    "bkinfo = getdata.getBooks(onlybooks = False, filename = bks[tstbk])\n",
    "\n",
    "#All Data\n",
    "mainData = bkinfo[tstbk]['data']\n",
    "links = bkinfo[tstbk]['links']\n",
    "metadata = bkinfo[tstbk]['metadata']\n",
    "data = pickle.load( open( \"returnedData.pkl\", \"rb\" ))"
   ]
  },
  {
   "cell_type": "markdown",
   "metadata": {},
   "source": [
    "![alt text](sample.jpg \"Title\")"
   ]
  },
  {
   "cell_type": "code",
   "execution_count": 9,
   "metadata": {},
   "outputs": [
    {
     "data": {
      "text/plain": [
       "' https://stackoverflow.com/a/8661021 '"
      ]
     },
     "execution_count": 9,
     "metadata": {},
     "output_type": "execute_result"
    }
   ],
   "source": [
    "\"\"\" https://stackoverflow.com/a/8661021 \"\"\"\n",
    "#def represent_dictionary_order(self, dict_data):\n",
    "#    return self.represent_mapping('tag:yaml.org,2002:map', dict_data.items())\n",
    "#def setup_yaml():\n",
    "#    yaml.add_representer(OrderedDict, represent_dictionary_order)\n",
    "#setup_yaml()    "
   ]
  },
  {
   "cell_type": "code",
   "execution_count": 10,
   "metadata": {},
   "outputs": [],
   "source": [
    "def rec(data, vals):\n",
    "    lst2 = []\n",
    "    for v in vals:\n",
    "        lst = []\n",
    "        for d in data:\n",
    "            if d['parent'] == v:\n",
    "                lst.append(d['id'])\n",
    "        if len(lst) > 0:\n",
    "            g = rec(data,lst)\n",
    "            lst2.append(({v : g}))\n",
    "        else:\n",
    "            lst2.append(v)\n",
    "    return lst2        "
   ]
  },
  {
   "cell_type": "code",
   "execution_count": 11,
   "metadata": {},
   "outputs": [],
   "source": [
    "final = {}\n",
    "for d in data:\n",
    "    if d['parent'] == '#':\n",
    "        final[d['id']] = d['children']"
   ]
  },
  {
   "cell_type": "code",
   "execution_count": 12,
   "metadata": {},
   "outputs": [],
   "source": [
    "temp =  {}\n",
    "temp2 = {}\n",
    "\n",
    "for keys, values in final.items():\n",
    "    lst = rec(data,values)\n",
    "    temp[keys] = lst\n",
    "    \n",
    "    \n",
    "#Missing PART\n",
    "#convert names in temp to links\n",
    "def unpack(content):\n",
    "    nList = []\n",
    "    for k, v in content.items():\n",
    "        for value in v:\n",
    "            if isinstance(value, dict):\n",
    "                nList += (unpack(value))\n",
    "            else:\n",
    "                nList.append(value)\n",
    "    return nList\n",
    "    \n",
    "idList = unpack(temp)\n",
    "temp = str(temp)\n",
    "for item in idList:\n",
    "    for i in range(len(mainData)):\n",
    "        t = mainData[i]\n",
    "        if item == t['id']:\n",
    "            temp = temp.replace(item, links[i])\n",
    "\n",
    "temp = eval(temp)\n",
    "\n",
    "#\n",
    "temp2['Metadata'] = metadata\n",
    "temp2['BOOK'] = temp\n",
    "temp2 = temp2"
   ]
  },
  {
   "cell_type": "code",
   "execution_count": 13,
   "metadata": {},
   "outputs": [],
   "source": [
    "fdata = yaml.load(json.dumps(temp2),Loader = yaml.SafeLoader)"
   ]
  },
  {
   "cell_type": "code",
   "execution_count": 14,
   "metadata": {},
   "outputs": [
    {
     "name": "stdout",
     "output_type": "stream",
     "text": [
      "Metadata:\n",
      "  image: cover.png\n",
      "  title: Cloud Computing\n",
      "  subtitle: ''\n",
      "  author: Gregor von Laszewski\n",
      "  subauthor: Editor\n",
      "  email: laszewski@gmail.com\n",
      "  url: https://cloudmesh-community.github.io/book/vonlaszewski-cloud.epub\n",
      "  description: Proposed Lecture content (subject to change)\n",
      "  abstract: Proposed Lecture content (subject to change)\n",
      "  keywords: Cloud, virtual machines, containers, cloud engenering\n",
      "  stylesheet: epub.css\n",
      "  dest: ./dest/book\n",
      "  filename: vonLaszewski-cloud.epub\n",
      "  rights: (c) Gregor von Laszewski, 2018, 2019\n",
      "BOOK:\n",
      "  REST:\n",
      "  - https://raw.githubusercontent.com/cloudmesh-community/book/master/chapters/rest/rest.md\n",
      "  - REST/OPENAPI_3.0:\n",
      "    - https://raw.githubusercontent.com/cloudmesh-community/book/master/chapters/rest/rest-spec.md\n",
      "    - https://raw.githubusercontent.com/cloudmesh-community/book/master/chapters/rest/swagger-introspection.md\n",
      "    - https://raw.githubusercontent.com/cloudmesh-community/book/master/chapters/rest/rest-ai.md\n",
      "    - REST/OPENAPI_2.0:\n",
      "      - https://raw.githubusercontent.com/cloudmesh-community/book/master/chapters/rest/swagger-spec.md\n",
      "      - https://raw.githubusercontent.com/cloudmesh-community/book/master/chapters/rest/swagger-introspection-2-0.md\n",
      "      - https://raw.githubusercontent.com/cloudmesh-community/book/master/chapters/rest/swagger-codegen.md\n",
      "  - https://raw.githubusercontent.com/cloudmesh-community/book/master/chapters/rest/rest-restful.md\n",
      "  - https://raw.githubusercontent.com/cloudmesh-community/book/master/chapters/rest/rest-django.md\n",
      "  - https://raw.githubusercontent.com/cloudmesh-community/book/master/chapters/prg/github.md\n",
      "  - https://raw.githubusercontent.com/cloudmesh-community/book/master/chapters/rest/swagger.md\n",
      "  - REST/REST_WITH_EVE:\n",
      "    - https://raw.githubusercontent.com/cloudmesh-community/book/master/chapters/rest/rest-eve.md\n",
      "    - https://raw.githubusercontent.com/cloudmesh-community/book/master/chapters/rest/rest-haetos.md\n",
      "    - https://raw.githubusercontent.com/cloudmesh-community/book/master/chapters/rest/rest-eve-extensions.md\n",
      "  - https://raw.githubusercontent.com/cloudmesh-community/book/master/chapters/rest/rest-excersises.md\n",
      "  - https://raw.githubusercontent.com/cloudmesh-community/book/master/chapters/graphql/graphql.md\n",
      "  PREFACE:\n",
      "  - https://raw.githubusercontent.com/cloudmesh-community/book/master/chapters/preface/learning.md\n",
      "  - https://raw.githubusercontent.com/cloudmesh-community/book/master/chapters/preface/reader.md\n",
      "  - https://raw.githubusercontent.com/cloudmesh-community/book/master/chapters/preface/corrections.md\n",
      "  - https://raw.githubusercontent.com/cloudmesh-community/book/master/chapters/preface/notation.md\n",
      "  - https://raw.githubusercontent.com/cloudmesh-community/book/master/chapters/preface/updates.md\n",
      "  - https://raw.githubusercontent.com/cloudmesh-community/book/master/chapters/class/516/overview.md\n",
      "  - https://raw.githubusercontent.com/cloudmesh-community/book/master/chapters/cloud/definition.md\n",
      "\n"
     ]
    }
   ],
   "source": [
    "print(yaml.dump(fdata))\n",
    "\n",
    "bookTitle = metadata['title']\n",
    "with open(bookTitle + '.yaml', 'w+') as f:\n",
    "    yaml.dump(fdata, f)"
   ]
  },
  {
   "cell_type": "code",
   "execution_count": null,
   "metadata": {},
   "outputs": [],
   "source": []
  }
 ],
 "metadata": {
  "kernelspec": {
   "display_name": "Python 3",
   "language": "python",
   "name": "python3"
  },
  "language_info": {
   "codemirror_mode": {
    "name": "ipython",
    "version": 3
   },
   "file_extension": ".py",
   "mimetype": "text/x-python",
   "name": "python",
   "nbconvert_exporter": "python",
   "pygments_lexer": "ipython3",
   "version": "3.7.5rc1"
  },
  "toc": {
   "base_numbering": 1,
   "nav_menu": {},
   "number_sections": true,
   "sideBar": true,
   "skip_h1_title": false,
   "title_cell": "Table of Contents",
   "title_sidebar": "Contents",
   "toc_cell": false,
   "toc_position": {},
   "toc_section_display": true,
   "toc_window_display": false
  }
 },
 "nbformat": 4,
 "nbformat_minor": 2
}
