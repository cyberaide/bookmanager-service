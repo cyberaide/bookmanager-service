{
 "cells": [
  {
   "cell_type": "code",
   "execution_count": 95,
   "metadata": {},
   "outputs": [],
   "source": [
    "import pickle\n",
    "import json\n",
    "import yaml\n",
    "from collections import OrderedDict\n",
    "import sys\n",
    "import os\n",
    "sys.path.append(os.getcwd() + '\\\\cloudmesh\\\\bookmanagerservice\\\\service')\n",
    "import getdata"
   ]
  },
  {
   "cell_type": "code",
   "execution_count": 96,
   "metadata": {},
   "outputs": [],
   "source": [
    "bks = getdata.getBooks(onlybooks=True)\n",
    "tstbk = list(bks.keys())[1]\n",
    "bkinfo = getdata.getBooks(onlybooks = False, filename = bks[tstbk])\n",
    "\n",
    "#All Data\n",
    "mainData = bkinfo[tstbk]['data']\n",
    "links = bkinfo[tstbk]['links']\n",
    "metadata = bkinfo[tstbk]['metadata']\n"
   ]
  },
  {
   "cell_type": "code",
   "execution_count": 106,
   "metadata": {},
   "outputs": [],
   "source": [
    "data = pickle.load( open( \"returnedData.pkl\", \"rb\" )) "
   ]
  },
  {
   "cell_type": "markdown",
   "metadata": {},
   "source": [
    "![alt text](sample.jpg \"Title\")"
   ]
  },
  {
   "cell_type": "code",
   "execution_count": 107,
   "metadata": {},
   "outputs": [],
   "source": [
    "\"\"\" https://stackoverflow.com/a/8661021 \"\"\"\n",
    "def represent_dictionary_order(self, dict_data):\n",
    "    return self.represent_mapping('tag:yaml.org,2002:map', dict_data.items())\n",
    "def setup_yaml():\n",
    "    yaml.add_representer(OrderedDict, represent_dictionary_order)\n",
    "setup_yaml()    "
   ]
  },
  {
   "cell_type": "code",
   "execution_count": 108,
   "metadata": {},
   "outputs": [],
   "source": [
    "def rec(data, vals):\n",
    "    lst2 = []\n",
    "    for v in vals:\n",
    "        lst = []\n",
    "        for d in data:\n",
    "            if d['parent'] == v:\n",
    "                lst.append(d['id'])\n",
    "        if len(lst) > 0:\n",
    "            g = rec(data,lst)\n",
    "            lst2.append(({v : g}))\n",
    "        else:\n",
    "            lst2.append(v)\n",
    "    return lst2        "
   ]
  },
  {
   "cell_type": "code",
   "execution_count": 109,
   "metadata": {},
   "outputs": [],
   "source": [
    "final = {}\n",
    "for d in data:\n",
    "    if d['parent'] == '#':\n",
    "        final[d['id']] = d['children']"
   ]
  },
  {
   "cell_type": "code",
   "execution_count": 114,
   "metadata": {},
   "outputs": [],
   "source": [
    "temp =  {}\n",
    "temp2 = {}\n",
    "\n",
    "for keys, values in final.items():\n",
    "    lst = rec(data,values)\n",
    "    temp[keys] = lst\n",
    "    \n",
    "    \n",
    "#Missing PART\n",
    "#convert names in temp to links\n",
    "\n",
    "\n",
    "#\n",
    "temp2['Metadata'] = metadata\n",
    "temp2['BOOK'] = temp"
   ]
  },
  {
   "cell_type": "code",
   "execution_count": 115,
   "metadata": {},
   "outputs": [
    {
     "name": "stdout",
     "output_type": "stream",
     "text": [
      "Metadata:\n",
      "  abstract: Proposed Lecture content (subject to change)\n",
      "  author: Gregor von Laszewski\n",
      "  description: Proposed Lecture content (subject to change)\n",
      "  dest: ./dest/book\n",
      "  email: laszewski@gmail.com\n",
      "  filename: vonLaszewski-cloud.epub\n",
      "  image: cover.png\n",
      "  keywords: Cloud, virtual machines, containers, cloud engenering\n",
      "  rights: (c) Gregor von Laszewski, 2018, 2019\n",
      "  stylesheet: epub.css\n",
      "  subauthor: Editor\n",
      "  subtitle: ''\n",
      "  title: Cloud Computing\n",
      "  url: https://cloudmesh-community.github.io/book/vonlaszewski-cloud.epub\n",
      "BOOK:\n",
      "  PREFACE:\n",
      "  - PREFACE_Learning_Objectives\n",
      "  - PREFACE_ePub_Readers\n",
      "  - PREFACE_Corrections\n",
      "  - PREFACE_Notation_{sec:notation}\n",
      "  - PREFACE_Updates\n",
      "  - PREFACE_OVERVIEW_{sec:book-overview}\n",
      "  - PREFACE_DEFINITION_OF_CLOUD_COMPUTING_{sec:cloud-definition}\n",
      "  REST:\n",
      "  - REST_Introduction_to_REST_{sec:rest}\n",
      "  - REST/OPENAPI_3.0:\n",
      "    - REST/OPENAPI_3.0_REST_Specifications_{sec:rest-specs}\n",
      "    - REST/OPENAPI_3.0_OpenAPI_3.0_REST_Service_via_Introspection_{sec:openapi-introspection}\n",
      "    - REST/OPENAPI_3.0_REST_AI_services_Example_{sec:restai-kmeans}\n",
      "    - REST/OPENAPI_2.0:\n",
      "      - REST/OPENAPI_2.0_OpenAPI_2.0_Specification_{sec:openapi-spec}\n",
      "      - REST/OPENAPI_2.0_OpenAPI_REST_Service_via_Introspection_{sec:openapi-introspection-2}\n",
      "      - REST/OPENAPI_2.0_OpenAPI_REST_Service_via_Codegen_{sec:openapi-codegen}\n",
      "  - REST_Flask_RESTful_Services\n",
      "  - REST_Django_REST_Framework\n",
      "  - REST_Github_REST_Services_{sec:Github-REST}\n",
      "  - REST_OpenAPI_REST_Services_with_Swagger_{sec:swagger}\n",
      "  - REST/REST_WITH_EVE:\n",
      "    - REST/REST_WITH_EVE_Rest_Services_with_Eve\n",
      "    - REST/REST_WITH_EVE_HATEOAS\n",
      "    - REST/REST_WITH_EVE_Extensions_to_Eve\n",
      "  - REST_Exercises\n",
      "  - REST_GRAPHQL_{s-graphql}\n",
      "\n"
     ]
    }
   ],
   "source": [
    "fdata = OrderedDict(yaml.load(json.dumps(temp2),Loader = yaml.SafeLoader))\n",
    "results = yaml.dump(fdata,default_flow_style=False)\n",
    "print(results)"
   ]
  },
  {
   "cell_type": "code",
   "execution_count": null,
   "metadata": {},
   "outputs": [],
   "source": [
    "os.c"
   ]
  }
 ],
 "metadata": {
  "kernelspec": {
   "display_name": "Python 3",
   "language": "python",
   "name": "python3"
  },
  "language_info": {
   "codemirror_mode": {
    "name": "ipython",
    "version": 3
   },
   "file_extension": ".py",
   "mimetype": "text/x-python",
   "name": "python",
   "nbconvert_exporter": "python",
   "pygments_lexer": "ipython3",
   "version": "3.7.1"
  },
  "toc": {
   "base_numbering": 1,
   "nav_menu": {},
   "number_sections": true,
   "sideBar": true,
   "skip_h1_title": false,
   "title_cell": "Table of Contents",
   "title_sidebar": "Contents",
   "toc_cell": false,
   "toc_position": {},
   "toc_section_display": true,
   "toc_window_display": false
  }
 },
 "nbformat": 4,
 "nbformat_minor": 2
}
